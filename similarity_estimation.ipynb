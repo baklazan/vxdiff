{
 "cells": [
  {
   "cell_type": "code",
   "execution_count": 139,
   "metadata": {},
   "outputs": [],
   "source": [
    "from matplotlib import pyplot as plt\n",
    "from scipy.stats import pearsonr\n",
    "import numpy as np\n",
    "import random"
   ]
  },
  {
   "cell_type": "code",
   "execution_count": 77,
   "metadata": {},
   "outputs": [],
   "source": [
    "length_sums = []\n",
    "lefts = []\n",
    "rights = []\n",
    "left_values = []\n",
    "right_values = []\n",
    "common_values = []\n",
    "\n",
    "with open('lines.txt', 'r') as file:\n",
    "    count = int(file.readline())\n",
    "    for i in range(count):\n",
    "        tokens = file.readline().split()\n",
    "        left_len = int(tokens[0])\n",
    "        right_len = int(tokens[1])\n",
    "        left_value = float(tokens[2])\n",
    "        right_value = float(tokens[3])\n",
    "        common_value = float(tokens[4])\n",
    "        lefts.append(file.read(left_len))\n",
    "        rights.append(file.read(right_len))\n",
    "        length_sums.append(left_len + right_len)\n",
    "        left_values.append(left_value)\n",
    "        right_values.append(right_value)\n",
    "        common_values.append(common_value)"
   ]
  },
  {
   "cell_type": "code",
   "execution_count": 25,
   "metadata": {},
   "outputs": [
    {
     "name": "stdout",
     "output_type": "stream",
     "text": [
      "Using matplotlib backend: TkAgg\n"
     ]
    }
   ],
   "source": [
    "%matplotlib"
   ]
  },
  {
   "cell_type": "code",
   "execution_count": 46,
   "metadata": {},
   "outputs": [
    {
     "name": "stdout",
     "output_type": "stream",
     "text": [
      "25000 25000\n"
     ]
    }
   ],
   "source": [
    "print(len(ious), len(length_sums))\n",
    "plt.scatter(ious, length_sums, s=1)\n",
    "plt.show()"
   ]
  },
  {
   "cell_type": "code",
   "execution_count": 200,
   "metadata": {},
   "outputs": [],
   "source": [
    "def extract_piece_set(string, k):\n",
    "    pieces = set()\n",
    "    occurences = {}\n",
    "    for i in range(len(string) - k + 1):\n",
    "        piece = string[i : i + k]\n",
    "        if piece not in occurences:\n",
    "            occurences[piece] = 0\n",
    "        #pieces.add(piece)\n",
    "        pieces.add((occurences[piece], piece))\n",
    "        occurences[piece] += 1\n",
    "    return pieces\n",
    "\n",
    "def est_exact(left_set, right_set):\n",
    "    intersection = 0\n",
    "    for left_piece in left_set:\n",
    "        if left_piece in right_set:\n",
    "            intersection += 1\n",
    "    return intersection\n",
    "\n",
    "def est_with_replacement(left_set, right_set, samples = 5):\n",
    "    hits = 0\n",
    "    for round in range(samples):\n",
    "        salt = random.randrange(0, 2 ** 32)\n",
    "        left_max = -2 ** 64\n",
    "        for piece in left_set:\n",
    "            left_max = max(left_max, hash((salt, piece)))\n",
    "        right_max = -2 ** 64\n",
    "        for piece in right_set:\n",
    "            right_max = max(right_max, hash((salt, piece)))\n",
    "        if left_max == right_max:\n",
    "            hits += 1\n",
    "    iou = hits / samples\n",
    "    return (len(left_set) + len(right_set)) * iou / (1 + iou)\n",
    "\n",
    "\n",
    "\n",
    "def est_bitvector_with_replacement(left_set, right_set, samples, vec_len, correct=True):\n",
    "    left_bitvector = np.zeros(vec_len, dtype=bool)\n",
    "    left_bits = 0\n",
    "    \n",
    "    right_bitvector = np.zeros(vec_len, dtype=bool)\n",
    "    right_bits = 0\n",
    "    \n",
    "    salts = [random.randrange(0, 2 ** 32) for _ in range(samples)]\n",
    "    \n",
    "    for salt in salts:\n",
    "        left_max = -2 ** 64\n",
    "        for piece in left_set:\n",
    "            left_max = max(left_max, hash((salt, piece)))\n",
    "        if not left_bitvector[left_max % vec_len]:\n",
    "            left_bitvector[left_max % vec_len] = True\n",
    "            left_bits += 1\n",
    "    \n",
    "    hits = 0\n",
    "    \n",
    "    for salt in salts:\n",
    "        right_max = -2 ** 64\n",
    "        for piece in right_set:\n",
    "            right_max = max(right_max, hash((salt, piece)))\n",
    "        if not right_bitvector[right_max % vec_len]:\n",
    "            right_bitvector[right_max % vec_len] = True\n",
    "            right_bits += 1\n",
    "            if left_bitvector[right_max % vec_len]:\n",
    "                hits += 1\n",
    "    if left_bits + right_bits == 0:\n",
    "        return 0\n",
    "    \n",
    "    corrected_hits = max((hits - (left_bits * right_bits) / vec_len), 0) / (1 - max(left_bits, right_bits) / vec_len)\n",
    "    \n",
    "    return (corrected_hits if correct else hits) / (left_bits + right_bits) * (len(left_set) + len(right_set))\n",
    "\n",
    "\n",
    "    \n",
    "def est_without_replacement(left_set, right_set, samples = 5):\n",
    "    left_hashes = list(map(hash, left_set))\n",
    "    left_hashes.sort()\n",
    "    left_hashes = left_hashes[-samples:]\n",
    "    right_hashes = list(map(hash, right_set))\n",
    "    right_hashes.sort()\n",
    "    right_hashes = right_hashes[-samples:]\n",
    "    hits = 0\n",
    "    for left in left_hashes:\n",
    "        if left in right_hashes:\n",
    "            hits += 1\n",
    "    iou = hits / samples\n",
    "    return (len(left_set) + len(right_set)) * iou / (1 + iou)\n",
    "\n",
    "\n",
    "def est_bitvector_without_replacement(left_set, right_set, samples, vec_len, correct=True):\n",
    "    left_hashes = list(map(hash, left_set))\n",
    "    left_hashes.sort()\n",
    "    left_hashes = left_hashes[-samples:]\n",
    "    right_hashes = list(map(hash, right_set))\n",
    "    right_hashes.sort()\n",
    "    right_hashes = right_hashes[-samples:]\n",
    "    \n",
    "    left_bitvector = np.zeros(vec_len, dtype=bool)\n",
    "    left_bits = 0\n",
    "    for h in left_hashes:\n",
    "        if not left_bitvector[h % vec_len]:\n",
    "            left_bitvector[h % vec_len] = True\n",
    "            left_bits += 1\n",
    "    \n",
    "    hits = 0\n",
    "    right_bitvector = np.zeros(vec_len, dtype=bool)\n",
    "    right_bits = 0\n",
    "    for h in right_hashes:\n",
    "        if not right_bitvector[h % vec_len]:\n",
    "            right_bitvector[h % vec_len] = True\n",
    "            right_bits += 1\n",
    "            if left_bitvector[h % vec_len]:\n",
    "                hits += 1\n",
    "    if left_bits + right_bits == 0:\n",
    "        return 0\n",
    "    \n",
    "    corrected_hits = max((hits - (left_bits * right_bits) / vec_len), 0) / (1 - max(left_bits, right_bits) / vec_len)\n",
    "    \n",
    "    return (corrected_hits if correct else hits) / (left_bits + right_bits) * (len(left_set) + len(right_set))\n",
    "    \n",
    "def predict_score(left, right, left_value, right_value, k, intersection_estimator):\n",
    "    left_pieces = extract_piece_set(left, k)\n",
    "    right_pieces = extract_piece_set(right, k)\n",
    "    intersection = intersection_estimator(left_pieces, right_pieces)\n",
    "        \n",
    "    total_pieces = len(left_pieces) + len(right_pieces)\n",
    "    if total_pieces == 0:\n",
    "        return 0.0\n",
    "    return intersection / total_pieces * (left_value + right_value)"
   ]
  },
  {
   "cell_type": "code",
   "execution_count": 206,
   "metadata": {},
   "outputs": [
    {
     "name": "stdout",
     "output_type": "stream",
     "text": [
      "3 0.9401979958176483\n"
     ]
    }
   ],
   "source": [
    "for samples in range(26, 27, 2):\n",
    "    estimator = lambda left, right: est_bitvector_with_replacement(left, right, samples, 128, True)\n",
    "    for k in [3]:\n",
    "        predicted = [predict_score(lefts[i], rights[i], left_values[i], right_values[i], k, estimator) for i in range(len(lefts))]\n",
    "        corr, _ = pearsonr(common_values, predicted)\n",
    "        print(k, corr)\n",
    "        plt.scatter(common_values, predicted, s=1)\n",
    "plt.show()"
   ]
  },
  {
   "cell_type": "code",
   "execution_count": 198,
   "metadata": {},
   "outputs": [
    {
     "name": "stdout",
     "output_type": "stream",
     "text": [
      "3 0.689933632644842\n",
      "3 0.9472622279959426\n",
      "3 0.9646222942806633\n",
      "3 0.9771308506986505\n",
      "3 0.9780875633664778\n",
      "3 0.9812675715198768\n",
      "3 0.9847183811518085\n",
      "3 0.9841089592719765\n",
      "3 0.9829665994616549\n",
      "3 0.9814526701144386\n",
      "3 0.9802103454051657\n",
      "3 0.9790197700383816\n",
      "3 0.9769738950535726\n",
      "3 0.9754771904009086\n",
      "3 0.9752809511934463\n",
      "3 0.9750336135552756\n",
      "3 0.9749866683192061\n",
      "3 0.974927360993288\n",
      "3 0.9748586830545237\n",
      "3 0.9748362457211789\n",
      "3 0.9747889300158157\n",
      "3 0.9747877941354356\n",
      "3 0.9747572820892314\n",
      "3 0.9747195099738948\n",
      "3 0.9747196137385217\n",
      "3 0.9747168130007811\n",
      "3 0.9747207750618045\n",
      "3 0.9747207750618045\n",
      "3 0.9747207750618045\n",
      "3 0.9747207750618045\n",
      "3 0.9747207750618045\n",
      "3 0.9747207750618045\n"
     ]
    }
   ],
   "source": [
    "correlations = []\n",
    "for samples in range(1, 256, 8):\n",
    "    estimator = lambda left, right: est_bitvector(left, right, samples, 256, False)\n",
    "    for k in [3]:\n",
    "        predicted = [predict_score(lefts[i], rights[i], left_values[i], right_values[i], k, estimator) for i in range(len(lefts))]\n",
    "        corr, _ = pearsonr(common_values, predicted)\n",
    "        print(k, corr)\n",
    "        correlations.append(corr)\n",
    "        plt.scatter(common_values, predicted, s=1)\n",
    "plt.show()"
   ]
  },
  {
   "cell_type": "code",
   "execution_count": 199,
   "metadata": {},
   "outputs": [
    {
     "data": {
      "text/plain": [
       "[<matplotlib.lines.Line2D at 0x7f81ec9517f0>]"
      ]
     },
     "execution_count": 199,
     "metadata": {},
     "output_type": "execute_result"
    }
   ],
   "source": [
    "plt.plot(correlations)"
   ]
  },
  {
   "cell_type": "code",
   "execution_count": 190,
   "metadata": {},
   "outputs": [
    {
     "data": {
      "text/plain": [
       "2.7184177550101496"
      ]
     },
     "execution_count": 190,
     "metadata": {},
     "output_type": "execute_result"
    }
   ],
   "source": []
  }
 ],
 "metadata": {
  "kernelspec": {
   "display_name": "Python 3 (ipykernel)",
   "language": "python",
   "name": "python3"
  },
  "language_info": {
   "codemirror_mode": {
    "name": "ipython",
    "version": 3
   },
   "file_extension": ".py",
   "mimetype": "text/x-python",
   "name": "python",
   "nbconvert_exporter": "python",
   "pygments_lexer": "ipython3",
   "version": "3.9.7"
  }
 },
 "nbformat": 4,
 "nbformat_minor": 4
}
